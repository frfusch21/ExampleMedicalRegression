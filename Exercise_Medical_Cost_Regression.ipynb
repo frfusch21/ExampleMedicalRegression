{
  "nbformat": 4,
  "nbformat_minor": 0,
  "metadata": {
    "colab": {
      "provenance": []
    },
    "kernelspec": {
      "name": "python3",
      "display_name": "Python 3"
    },
    "language_info": {
      "name": "python"
    }
  },
  "cells": [
    {
      "cell_type": "code",
      "execution_count": null,
      "metadata": {
        "id": "PMxpcnAPGVxr"
      },
      "outputs": [],
      "source": [
        "import pandas as pd\n",
        "import numpy as np\n",
        "import matplotlib.pyplot as plt\n",
        "%matplotlib inline\n",
        "import seaborn as sns\n",
        "import warnings\n",
        "import pickle\n",
        "warnings.filterwarnings('ignore')"
      ]
    },
    {
      "cell_type": "code",
      "source": [
        "#Download data here: https://drive.google.com/file/d/1_-kRegOMJmIMG6-XnDwYKnADdNounmKm/view?usp=sharing\n",
        "df = pd.read_csv('insurance.csv')\n",
        "df"
      ],
      "metadata": {
        "id": "E1s8T4fnGdC0"
      },
      "execution_count": null,
      "outputs": []
    },
    {
      "cell_type": "code",
      "source": [
        "df.shape"
      ],
      "metadata": {
        "id": "paHlG50EHQMd"
      },
      "execution_count": null,
      "outputs": []
    },
    {
      "cell_type": "code",
      "source": [
        "df.describe()"
      ],
      "metadata": {
        "id": "cIck8MNzHiiV"
      },
      "execution_count": null,
      "outputs": []
    },
    {
      "cell_type": "code",
      "source": [
        "df.dtypes"
      ],
      "metadata": {
        "id": "FDfFvUpEHj3b"
      },
      "execution_count": null,
      "outputs": []
    },
    {
      "cell_type": "code",
      "source": [
        "#Objects need to be converted into categorical data"
      ],
      "metadata": {
        "id": "z_augeXTKGbQ"
      },
      "execution_count": null,
      "outputs": []
    },
    {
      "cell_type": "code",
      "source": [
        "df.isnull().sum()"
      ],
      "metadata": {
        "id": "-H0b1-nfHlWS"
      },
      "execution_count": null,
      "outputs": []
    },
    {
      "cell_type": "markdown",
      "source": [
        "### **EDA**"
      ],
      "metadata": {
        "id": "BnuavWm6HprT"
      }
    },
    {
      "cell_type": "code",
      "source": [
        "sns.set(style='whitegrid')\n",
        "f, ax = plt.subplots(1,1, figsize=(12, 8))\n",
        "ax = sns.distplot(df['charges'], kde = True, color = 'c')\n",
        "plt.title('Distribution of Charges')"
      ],
      "metadata": {
        "id": "AjEwlvEyHlaF"
      },
      "execution_count": null,
      "outputs": []
    },
    {
      "cell_type": "markdown",
      "source": [
        "**Apply Natural Log**"
      ],
      "metadata": {
        "id": "M-8mfw29IASz"
      }
    },
    {
      "cell_type": "markdown",
      "source": [
        "Data terlalu miring (skewed) sehingga tidak mencerminkan normal distribusi. Oleh karena itu apply Natural Log untuk membuat data menjadi distribusi normal atau mencapai varian konstan."
      ],
      "metadata": {
        "id": "b-ZqVsBsIyK2"
      }
    },
    {
      "cell_type": "code",
      "source": [
        "f, ax = plt.subplots(1,1, figsize=(12, 8))\n",
        "ax = sns.distplot(np.log10(df['charges']), kde = True, color = 'r')"
      ],
      "metadata": {
        "id": "KmM_mQ4zHv7j"
      },
      "execution_count": null,
      "outputs": []
    },
    {
      "cell_type": "markdown",
      "source": [
        "**Check per Region**"
      ],
      "metadata": {
        "id": "SKM_u8oOIT7L"
      }
    },
    {
      "cell_type": "code",
      "source": [
        "#Univariate\n",
        "charges = df['charges'].groupby(df.region).sum().sort_values(ascending = True)\n",
        "# charges_df = charges.head().reset_index()\n",
        "f, ax = plt.subplots(1, 1, figsize=(8, 6))\n",
        "ax = sns.barplot(x=charges.head(), y=charges.head().index, palette='Blues')\n",
        "\n",
        "plt.show()"
      ],
      "metadata": {
        "id": "bm-6YHxSHxyg"
      },
      "execution_count": null,
      "outputs": []
    },
    {
      "cell_type": "markdown",
      "source": [
        "**Charges Per Region Based on Sex**"
      ],
      "metadata": {
        "id": "HCx7n82yqdPe"
      }
    },
    {
      "cell_type": "code",
      "source": [
        "# Multivariate Analysis\n",
        "f, ax = plt.subplots(1, 1, figsize=(12, 8))\n",
        "ax = sns.barplot(x='region', y='charges', hue='sex', data=df, palette='cool')"
      ],
      "metadata": {
        "id": "czeqrkPcJMfY"
      },
      "execution_count": null,
      "outputs": []
    },
    {
      "cell_type": "markdown",
      "source": [
        "**Charges per Region Based on Smoker**"
      ],
      "metadata": {
        "id": "IcgcWpjYqtKi"
      }
    },
    {
      "cell_type": "code",
      "source": [
        "f, ax = plt.subplots(1,1, figsize=(12,8))\n",
        "ax = sns.barplot(x = 'region', y = 'charges',\n",
        "                 hue='smoker', data=df, palette='Reds_r')"
      ],
      "metadata": {
        "id": "RWo30SbTJYZQ"
      },
      "execution_count": null,
      "outputs": []
    },
    {
      "cell_type": "markdown",
      "source": [
        "**Charges per Region Based on How Many Children**"
      ],
      "metadata": {
        "id": "0JpTRmd2q5CS"
      }
    },
    {
      "cell_type": "code",
      "source": [
        "f, ax = plt.subplots(1, 1, figsize=(12, 8))\n",
        "ax = sns.barplot(x='region', y='charges', hue='children', data=df, palette='Set1')"
      ],
      "metadata": {
        "id": "pRceLIwMJY6J"
      },
      "execution_count": null,
      "outputs": []
    },
    {
      "cell_type": "markdown",
      "source": [
        "# **Analisa Medical charges berdasarkan faktor 'Smoker' dengan prediktor lain**"
      ],
      "metadata": {
        "id": "9WkxidTeJfl-"
      }
    },
    {
      "cell_type": "code",
      "source": [
        "ax = sns.lmplot(x = 'age', y = 'charges', data=df, hue='smoker', palette='Set1')\n",
        "ax = sns.lmplot(x = 'bmi', y = 'charges', data=df, hue='smoker', palette='Set2')\n",
        "ax = sns.lmplot(x = 'children', y = 'charges', data=df, hue='smoker', palette='Set3')"
      ],
      "metadata": {
        "id": "iYcj5NlgJZJ1"
      },
      "execution_count": null,
      "outputs": []
    },
    {
      "cell_type": "code",
      "source": [
        "f, ax = plt.subplots(1, 1, figsize=(10, 10))\n",
        "ax = sns.violinplot(x = 'children', y = 'charges', data=df,\n",
        "                 orient='v', hue='smoker', palette='inferno')"
      ],
      "metadata": {
        "id": "82P2Vz4FJzra"
      },
      "execution_count": null,
      "outputs": []
    },
    {
      "cell_type": "markdown",
      "source": [
        "# **Data Preprocessing**"
      ],
      "metadata": {
        "id": "EYdV2194KRfv"
      }
    },
    {
      "cell_type": "code",
      "source": [
        "#Converting objects labels into categorical\n",
        "df[['sex', 'smoker', 'region']] = df[['sex', 'smoker', 'region']].astype('category')\n",
        "df.dtypes"
      ],
      "metadata": {
        "id": "wRN_3KZIKP-i"
      },
      "execution_count": null,
      "outputs": []
    },
    {
      "cell_type": "code",
      "source": [
        "#Converting category labels into numerical using LabelEncoder\n",
        "from sklearn.preprocessing import LabelEncoder\n",
        "label = LabelEncoder()\n",
        "df.sex = label.fit_transform(df.sex)\n",
        "df.smoker = label.fit_transform(df.smoker)\n",
        "df.region = label.fit_transform(df.region)\n",
        "# df.dtypes\n",
        "df"
      ],
      "metadata": {
        "id": "oZgWQ7FhKXPE"
      },
      "execution_count": null,
      "outputs": []
    },
    {
      "cell_type": "code",
      "source": [
        "f, ax = plt.subplots(1, 1, figsize=(10, 10))\n",
        "ax = sns.heatmap(df.corr(), annot=True, cmap=\"cool\")"
      ],
      "metadata": {
        "id": "hk66GfMLKaSk"
      },
      "execution_count": null,
      "outputs": []
    },
    {
      "cell_type": "markdown",
      "source": [
        "# **Algoritma**"
      ],
      "metadata": {
        "id": "7psz0bJaLUna"
      }
    },
    {
      "cell_type": "markdown",
      "source": [
        "**Train Test Split**"
      ],
      "metadata": {
        "id": "hVyIElTTw5NB"
      }
    },
    {
      "cell_type": "code",
      "source": [
        "from sklearn.model_selection import train_test_split as holdout\n",
        "from sklearn.linear_model import LinearRegression\n",
        "from sklearn import metrics\n",
        "\n",
        "x = df.drop(['charges'], axis = 1) #Prediktor\n",
        "y = df['charges'] #Label\n",
        "x_train, x_test, y_train, y_test = holdout(x, y, test_size=0.2, random_state=0)"
      ],
      "metadata": {
        "id": "X-h0fl6tw4VO"
      },
      "execution_count": null,
      "outputs": []
    },
    {
      "cell_type": "markdown",
      "source": [
        "**Linear Regression**"
      ],
      "metadata": {
        "id": "GZMkQwfqLZeh"
      }
    },
    {
      "cell_type": "code",
      "source": [
        "Lin_reg = LinearRegression()\n",
        "Lin_reg.fit(x_train, y_train)\n",
        "y_train_pred = Lin_reg.predict(x_train)\n",
        "y_test_pred = Lin_reg.predict(x_test)\n",
        "print(Lin_reg.intercept_)\n",
        "print(Lin_reg.coef_)\n",
        "print(Lin_reg.score(x_test, y_test))"
      ],
      "metadata": {
        "id": "F8R629w6KabN"
      },
      "execution_count": null,
      "outputs": []
    },
    {
      "cell_type": "markdown",
      "source": [
        "**Lasso Regression**"
      ],
      "metadata": {
        "id": "_41I0nzOLlp4"
      }
    },
    {
      "cell_type": "code",
      "source": [
        "from sklearn.linear_model import Lasso\n",
        "Lasso = Lasso(alpha=0.2, fit_intercept=True, precompute=False, max_iter=1000,\n",
        "              tol=0.0001, warm_start=False, positive=False, random_state=None, selection='cyclic')\n",
        "Lasso.fit(x_train, y_train)\n",
        "print(Lasso.intercept_)\n",
        "print(Lasso.coef_)\n",
        "print(Lasso.score(x_test, y_test))"
      ],
      "metadata": {
        "id": "1ZvGflLKL2Mc"
      },
      "execution_count": null,
      "outputs": []
    },
    {
      "cell_type": "markdown",
      "source": [
        "**Ridge Regression**"
      ],
      "metadata": {
        "id": "CBKaFPxdL7ld"
      }
    },
    {
      "cell_type": "code",
      "source": [
        "from sklearn.linear_model import Ridge\n",
        "Ridge = Ridge(alpha=0.5)\n",
        "Ridge.fit(x_train, y_train)\n",
        "print(Ridge.intercept_)\n",
        "print(Ridge.coef_)\n",
        "print(Ridge.score(x_test, y_test))"
      ],
      "metadata": {
        "id": "eKkcz7fPL_YM"
      },
      "execution_count": null,
      "outputs": []
    },
    {
      "cell_type": "markdown",
      "source": [
        "# **Evaluating Model**"
      ],
      "metadata": {
        "id": "aZ4Cd8BLNNHd"
      }
    },
    {
      "cell_type": "code",
      "source": [
        "##Evaluating the performance of the algorithm\n",
        "print('Mean Absolute Error:', metrics.mean_absolute_error(y_test, y_test_pred))\n",
        "print('Mean Squared Error:', metrics.mean_squared_error(y_test, y_test_pred))\n",
        "print('Root Mean Squared Error:', np.sqrt(metrics.mean_squared_error(y_test, y_test_pred)))"
      ],
      "metadata": {
        "id": "a_-OYqxhNQUv"
      },
      "execution_count": null,
      "outputs": []
    },
    {
      "cell_type": "code",
      "source": [
        "##Predicting the charges\n",
        "y_test_pred = Lin_reg.predict(x_test)\n",
        "##Comparing the actual output values with the predicted values\n",
        "df = pd.DataFrame({'Actual': y_test, 'Predicted': y_test_pred})\n",
        "df"
      ],
      "metadata": {
        "id": "09bfNIXqN5m6"
      },
      "execution_count": null,
      "outputs": []
    },
    {
      "cell_type": "markdown",
      "source": [
        "# **Menyimpan Model ke Pickle**"
      ],
      "metadata": {
        "id": "MP2Mz_AAOad8"
      }
    },
    {
      "cell_type": "code",
      "source": [],
      "metadata": {
        "id": "JO0ps6gsOefp"
      },
      "execution_count": null,
      "outputs": []
    },
    {
      "cell_type": "markdown",
      "source": [
        "# **Mengintegrasi Model kedalam Flask**"
      ],
      "metadata": {
        "id": "za1f5BbzOfAy"
      }
    },
    {
      "cell_type": "code",
      "source": [
        "!pip install pyngrok"
      ],
      "metadata": {
        "id": "keQeuT4eX8q-"
      },
      "execution_count": null,
      "outputs": []
    },
    {
      "cell_type": "code",
      "source": [
        "!pip install flask"
      ],
      "metadata": {
        "id": "xoeHUL1gxQYW"
      },
      "execution_count": null,
      "outputs": []
    },
    {
      "cell_type": "code",
      "source": [],
      "metadata": {
        "id": "DxxJtfDB2UEH"
      },
      "execution_count": null,
      "outputs": []
    }
  ]
}